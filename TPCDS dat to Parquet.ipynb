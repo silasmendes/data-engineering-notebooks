{
 "cells": [
  {
   "cell_type": "markdown",
   "source": [
    "### Call_center"
   ],
   "metadata": {
    "nteract": {
     "transient": {
      "deleting": false
     }
    }
   }
  },
  {
   "cell_type": "code",
   "source": [
    "from pyspark.sql.types import StructType, StructField, IntegerType, StringType, DateType, DoubleType\n",
    "\n",
    "call_center_schema = StructType([\n",
    "    StructField(\"cc_call_center_sk\", IntegerType(), False),\n",
    "    StructField(\"cc_call_center_id\", StringType(), False),\n",
    "    StructField(\"cc_rec_start_date\", DateType(), True),\n",
    "    StructField(\"cc_rec_end_date\", DateType(), True),\n",
    "    StructField(\"cc_closed_date_sk\", IntegerType(), True),\n",
    "    StructField(\"cc_open_date_sk\", IntegerType(), True),\n",
    "    StructField(\"cc_name\", StringType(), True),\n",
    "    StructField(\"cc_class\", StringType(), True),\n",
    "    StructField(\"cc_employees\", IntegerType(), True),\n",
    "    StructField(\"cc_sq_ft\", IntegerType(), True),\n",
    "    StructField(\"cc_hours\", StringType(), True),\n",
    "    StructField(\"cc_manager\", StringType(), True),\n",
    "    StructField(\"cc_mkt_id\", IntegerType(), True),\n",
    "    StructField(\"cc_mkt_class\", StringType(), True),\n",
    "    StructField(\"cc_mkt_desc\", StringType(), True),\n",
    "    StructField(\"cc_market_manager\", StringType(), True),\n",
    "    StructField(\"cc_division\", IntegerType(), True),\n",
    "    StructField(\"cc_division_name\", StringType(), True),\n",
    "    StructField(\"cc_company\", IntegerType(), True),\n",
    "    StructField(\"cc_company_name\", StringType(), True),\n",
    "    StructField(\"cc_street_number\", StringType(), True),\n",
    "    StructField(\"cc_street_name\", StringType(), True),\n",
    "    StructField(\"cc_street_type\", StringType(), True),\n",
    "    StructField(\"cc_suite_number\", StringType(), True),\n",
    "    StructField(\"cc_city\", StringType(), True),\n",
    "    StructField(\"cc_county\", StringType(), True),\n",
    "    StructField(\"cc_state\", StringType(), True),\n",
    "    StructField(\"cc_zip\", StringType(), True),\n",
    "    StructField(\"cc_country\", StringType(), True),\n",
    "    StructField(\"cc_gmt_offset\", DoubleType(), True),\n",
    "    StructField(\"cc_tax_percentage\", DoubleType(), True)\n",
    "])\n"
   ],
   "outputs": [
    {
     "output_type": "display_data",
     "data": {
      "application/vnd.livy.statement-meta+json": {
       "spark_pool": "spksilmen01",
       "statement_id": 2,
       "statement_ids": [
        2
       ],
       "state": "finished",
       "livy_statement_state": "available",
       "spark_jobs": null,
       "session_id": "128",
       "normalized_state": "finished",
       "queued_time": "2025-06-04T11:06:53.3917472Z",
       "session_start_time": "2025-06-04T11:06:53.392829Z",
       "execution_start_time": "2025-06-04T11:11:12.1729563Z",
       "execution_finish_time": "2025-06-04T11:11:12.4476848Z",
       "parent_msg_id": "71738cc7-3f4c-4bba-98d9-42305ecd59d3"
      },
      "text/plain": "StatementMeta(spksilmen01, 128, 2, Finished, Available, Finished)"
     },
     "metadata": {}
    }
   ],
   "execution_count": 1,
   "metadata": {}
  },
  {
   "cell_type": "code",
   "source": [
    "# Caminho de entrada do arquivo .dat\n",
    "input_path = \"abfss://tpcds100g@adlsssmdatatest01.dfs.core.windows.net/dat/tpcds_sf100/call_center.dat\"\n",
    "\n",
    "# Caminho de sa\u00edda para o arquivo Parquet\n",
    "output_path = \"abfss://tpcds100g@adlsssmdatatest01.dfs.core.windows.net/parquet/call_center\""
   ],
   "outputs": [
    {
     "output_type": "display_data",
     "data": {
      "application/vnd.livy.statement-meta+json": {
       "spark_pool": "spksilmen01",
       "statement_id": 3,
       "statement_ids": [
        3
       ],
       "state": "finished",
       "livy_statement_state": "available",
       "spark_jobs": null,
       "session_id": "128",
       "normalized_state": "finished",
       "queued_time": "2025-06-04T11:13:27.5552595Z",
       "session_start_time": null,
       "execution_start_time": "2025-06-04T11:13:27.5564315Z",
       "execution_finish_time": "2025-06-04T11:13:27.8176718Z",
       "parent_msg_id": "a547d4e9-e4fc-4538-b038-2e5c7c9da66b"
      },
      "text/plain": "StatementMeta(spksilmen01, 128, 3, Finished, Available, Finished)"
     },
     "metadata": {}
    }
   ],
   "execution_count": 2,
   "metadata": {}
  },
  {
   "cell_type": "code",
   "source": [
    "df_call_center = spark.read \\\n",
    "    .option(\"delimiter\", \"|\") \\\n",
    "    .option(\"header\", \"false\") \\\n",
    "    .schema(call_center_schema) \\\n",
    "    .csv(input_path)"
   ],
   "outputs": [
    {
     "output_type": "display_data",
     "data": {
      "application/vnd.livy.statement-meta+json": {
       "spark_pool": "spksilmen01",
       "statement_id": 4,
       "statement_ids": [
        4
       ],
       "state": "finished",
       "livy_statement_state": "available",
       "spark_jobs": null,
       "session_id": "128",
       "normalized_state": "finished",
       "queued_time": "2025-06-04T11:13:31.1510505Z",
       "session_start_time": null,
       "execution_start_time": "2025-06-04T11:13:31.1521484Z",
       "execution_finish_time": "2025-06-04T11:13:35.2350249Z",
       "parent_msg_id": "af67e3a1-58a8-484e-a15b-0ca31a9c5f5a"
      },
      "text/plain": "StatementMeta(spksilmen01, 128, 4, Finished, Available, Finished)"
     },
     "metadata": {}
    }
   ],
   "execution_count": 3,
   "metadata": {}
  },
  {
   "cell_type": "code",
   "source": [
    "df_call_center.write.mode(\"overwrite\").parquet(output_path)"
   ],
   "outputs": [
    {
     "output_type": "display_data",
     "data": {
      "application/vnd.livy.statement-meta+json": {
       "spark_pool": "spksilmen01",
       "statement_id": 5,
       "statement_ids": [
        5
       ],
       "state": "finished",
       "livy_statement_state": "available",
       "spark_jobs": null,
       "session_id": "128",
       "normalized_state": "finished",
       "queued_time": "2025-06-04T11:13:41.2650932Z",
       "session_start_time": null,
       "execution_start_time": "2025-06-04T11:13:41.2661983Z",
       "execution_finish_time": "2025-06-04T11:13:54.0480999Z",
       "parent_msg_id": "95ca94fe-7157-4e69-9430-a428a430b6b4"
      },
      "text/plain": "StatementMeta(spksilmen01, 128, 5, Finished, Available, Finished)"
     },
     "metadata": {}
    }
   ],
   "execution_count": 4,
   "metadata": {}
  },
  {
   "cell_type": "code",
   "source": [
    "df_call_center_parquet = spark.read.parquet(output_path)\n",
    "df_call_center_parquet.show(5)"
   ],
   "outputs": [],
   "execution_count": null,
   "metadata": {}
  },
  {
   "cell_type": "markdown",
   "source": [
    "### catalog_page.dat"
   ],
   "metadata": {
    "nteract": {
     "transient": {
      "deleting": false
     }
    }
   }
  },
  {
   "cell_type": "code",
   "source": [
    "from pyspark.sql.types import StructType, StructField, IntegerType, StringType\n",
    "\n",
    "catalog_page_schema = StructType([\n",
    "    StructField(\"cp_catalog_page_sk\", IntegerType(), False),\n",
    "    StructField(\"cp_catalog_page_id\", StringType(), False),\n",
    "    StructField(\"cp_start_date_sk\", IntegerType(), True),\n",
    "    StructField(\"cp_end_date_sk\", IntegerType(), True),\n",
    "    StructField(\"cp_department\", StringType(), True),\n",
    "    StructField(\"cp_catalog_number\", IntegerType(), True),\n",
    "    StructField(\"cp_catalog_page_number\", IntegerType(), True),\n",
    "    StructField(\"cp_description\", StringType(), True),\n",
    "    StructField(\"cp_type\", StringType(), True)\n",
    "])\n",
    "\n",
    "# Caminho de entrada do arquivo .dat\n",
    "input_path = \"abfss://tpcds100g@adlsssmdatatest01.dfs.core.windows.net/dat/tpcds_sf100/catalog_page.dat\"\n",
    "\n",
    "# Caminho de sa\u00edda para o arquivo Parquet\n",
    "output_path = \"abfss://tpcds100g@adlsssmdatatest01.dfs.core.windows.net/parquet/catalog_page\"\n",
    "\n",
    "df_catalog_page = spark.read \\\n",
    "    .option(\"delimiter\", \"|\") \\\n",
    "    .option(\"header\", \"false\") \\\n",
    "    .schema(catalog_page_schema) \\\n",
    "    .csv(input_path)\n",
    "\n",
    "df_catalog_page.write.mode(\"overwrite\").parquet(output_path)\n"
   ],
   "outputs": [
    {
     "output_type": "display_data",
     "data": {
      "application/vnd.livy.statement-meta+json": {
       "spark_pool": "spksilmen01",
       "statement_id": 7,
       "statement_ids": [
        7
       ],
       "state": "finished",
       "livy_statement_state": "available",
       "spark_jobs": null,
       "session_id": "128",
       "normalized_state": "finished",
       "queued_time": "2025-06-04T11:16:42.9435025Z",
       "session_start_time": null,
       "execution_start_time": "2025-06-04T11:16:42.9447312Z",
       "execution_finish_time": "2025-06-04T11:16:47.073557Z",
       "parent_msg_id": "6dc1aa06-4e58-4889-a309-eac4fe4a152c"
      },
      "text/plain": "StatementMeta(spksilmen01, 128, 7, Finished, Available, Finished)"
     },
     "metadata": {}
    }
   ],
   "execution_count": 6,
   "metadata": {}
  },
  {
   "cell_type": "markdown",
   "source": [
    "### catalog_returns.dat"
   ],
   "metadata": {
    "nteract": {
     "transient": {
      "deleting": false
     }
    }
   }
  },
  {
   "cell_type": "code",
   "source": [
    "from pyspark.sql.types import StructType, StructField, IntegerType, DoubleType\n",
    "\n",
    "catalog_returns_schema = StructType([\n",
    "    StructField(\"cr_returned_date_sk\", IntegerType(), True),\n",
    "    StructField(\"cr_returned_time_sk\", IntegerType(), True),\n",
    "    StructField(\"cr_item_sk\", IntegerType(), False),\n",
    "    StructField(\"cr_refunded_customer_sk\", IntegerType(), True),\n",
    "    StructField(\"cr_refunded_cdemo_sk\", IntegerType(), True),\n",
    "    StructField(\"cr_refunded_hdemo_sk\", IntegerType(), True),\n",
    "    StructField(\"cr_refunded_addr_sk\", IntegerType(), True),\n",
    "    StructField(\"cr_returning_customer_sk\", IntegerType(), True),\n",
    "    StructField(\"cr_returning_cdemo_sk\", IntegerType(), True),\n",
    "    StructField(\"cr_returning_hdemo_sk\", IntegerType(), True),\n",
    "    StructField(\"cr_returning_addr_sk\", IntegerType(), True),\n",
    "    StructField(\"cr_call_center_sk\", IntegerType(), True),\n",
    "    StructField(\"cr_catalog_page_sk\", IntegerType(), True),\n",
    "    StructField(\"cr_ship_mode_sk\", IntegerType(), True),\n",
    "    StructField(\"cr_warehouse_sk\", IntegerType(), True),\n",
    "    StructField(\"cr_reason_sk\", IntegerType(), True),\n",
    "    StructField(\"cr_order_number\", IntegerType(), False),\n",
    "    StructField(\"cr_return_quantity\", IntegerType(), True),\n",
    "    StructField(\"cr_return_amount\", DoubleType(), True),\n",
    "    StructField(\"cr_return_tax\", DoubleType(), True),\n",
    "    StructField(\"cr_return_amt_inc_tax\", DoubleType(), True),\n",
    "    StructField(\"cr_fee\", DoubleType(), True),\n",
    "    StructField(\"cr_return_ship_cost\", DoubleType(), True),\n",
    "    StructField(\"cr_refunded_cash\", DoubleType(), True),\n",
    "    StructField(\"cr_reversed_charge\", DoubleType(), True),\n",
    "    StructField(\"cr_store_credit\", DoubleType(), True),\n",
    "    StructField(\"cr_net_loss\", DoubleType(), True)\n",
    "])\n",
    "\n",
    "input_path = \"abfss://tpcds100g@adlsssmdatatest01.dfs.core.windows.net/dat/tpcds_sf100/catalog_returns.dat\"\n",
    "output_path = \"abfss://tpcds100g@adlsssmdatatest01.dfs.core.windows.net/parquet/catalog_returns\"\n",
    "\n",
    "df_catalog_returns = spark.read \\\n",
    "    .option(\"delimiter\", \"|\") \\\n",
    "    .option(\"header\", \"false\") \\\n",
    "    .schema(catalog_returns_schema) \\\n",
    "    .csv(input_path)\n",
    "\n",
    "df_catalog_returns.write.mode(\"overwrite\").parquet(output_path)\n"
   ],
   "outputs": [
    {
     "output_type": "display_data",
     "data": {
      "application/vnd.livy.statement-meta+json": {
       "spark_pool": "spksilmen01",
       "statement_id": 8,
       "statement_ids": [
        8
       ],
       "state": "finished",
       "livy_statement_state": "available",
       "spark_jobs": null,
       "session_id": "128",
       "normalized_state": "finished",
       "queued_time": "2025-06-04T11:17:40.9238326Z",
       "session_start_time": null,
       "execution_start_time": "2025-06-04T11:17:40.9250656Z",
       "execution_finish_time": "2025-06-04T11:19:05.187001Z",
       "parent_msg_id": "a839f0b8-df89-45ec-92da-1b26aab86b28"
      },
      "text/plain": "StatementMeta(spksilmen01, 128, 8, Finished, Available, Finished)"
     },
     "metadata": {}
    }
   ],
   "execution_count": 7,
   "metadata": {}
  },
  {
   "cell_type": "code",
   "source": [
    "df_catalog_returns_parquet = spark.read.parquet(output_path)\n",
    "df_catalog_returns_parquet.show(5)\n"
   ],
   "outputs": [
    {
     "output_type": "display_data",
     "data": {
      "application/vnd.livy.statement-meta+json": {
       "spark_pool": "spksilmen01",
       "statement_id": 9,
       "statement_ids": [
        9
       ],
       "state": "finished",
       "livy_statement_state": "available",
       "spark_jobs": null,
       "session_id": "128",
       "normalized_state": "finished",
       "queued_time": "2025-06-04T11:20:23.3377379Z",
       "session_start_time": null,
       "execution_start_time": "2025-06-04T11:20:23.3388819Z",
       "execution_finish_time": "2025-06-04T11:20:27.3737165Z",
       "parent_msg_id": "d22d5b66-fbcd-40cf-8910-2a948b679fd8"
      },
      "text/plain": "StatementMeta(spksilmen01, 128, 9, Finished, Available, Finished)"
     },
     "metadata": {}
    },
    {
     "output_type": "stream",
     "name": "stdout",
     "text": [
      "+-------------------+-------------------+----------+-----------------------+--------------------+--------------------+-------------------+------------------------+---------------------+---------------------+--------------------+-----------------+------------------+---------------+---------------+------------+---------------+------------------+----------------+-------------+---------------------+------+-------------------+----------------+------------------+---------------+-----------+\n|cr_returned_date_sk|cr_returned_time_sk|cr_item_sk|cr_refunded_customer_sk|cr_refunded_cdemo_sk|cr_refunded_hdemo_sk|cr_refunded_addr_sk|cr_returning_customer_sk|cr_returning_cdemo_sk|cr_returning_hdemo_sk|cr_returning_addr_sk|cr_call_center_sk|cr_catalog_page_sk|cr_ship_mode_sk|cr_warehouse_sk|cr_reason_sk|cr_order_number|cr_return_quantity|cr_return_amount|cr_return_tax|cr_return_amt_inc_tax|cr_fee|cr_return_ship_cost|cr_refunded_cash|cr_reversed_charge|cr_store_credit|cr_net_loss|\n+-------------------+-------------------+----------+-----------------------+--------------------+--------------------+-------------------+------------------------+---------------------+---------------------+--------------------+-----------------+------------------+---------------+---------------+------------+---------------+------------------+----------------+-------------+---------------------+------+-------------------+----------------+------------------+---------------+-----------+\n|            2450926|              45816|     64642|                 114601|              797995|                6189|             409583|                  114601|               797995|                 4703|              409583|               19|                74|              2|             12|          45|              2|                47|         3888.31|       233.29|               4121.6| 91.23|             1348.9|         3577.24|            186.64|         124.43|    1673.42|\n|            2450946|              74710|     82112|                 114601|              797995|                6189|             409583|                 1882809|               665550|                  991|               14832|               19|               177|              2|              5|          21|              2|                49|         2490.18|         99.6|              2589.78| 52.54|            1867.39|          323.72|            931.57|        1234.89|    2019.53|\n|            2451065|              71104|     13612|                 425383|                3755|                2480|             405652|                  502311|               700704|                 5571|               12485|                4|               179|             13|              7|           6|              4|                12|           64.32|          4.5|                68.82| 22.97|               78.6|            1.28|             55.47|           7.57|     106.07|\n|            2450954|              28638|     44809|                 976801|               90299|                3797|             892495|                  471681|              1168758|                 7154|              585197|                8|               129|             12|              8|           1|              5|                20|           829.4|        49.76|               879.16|  60.0|              308.0|          622.05|            176.24|          31.11|     417.76|\n|            2451023|              44538|    172213|                 931351|              528859|                5567|             773122|                 1633027|               737861|                   54|              352647|                7|                22|             12|             10|           1|              6|                 6|          403.08|        36.27|               439.35|  4.58|             199.44|          354.71|             27.57|           20.8|     240.29|\n+-------------------+-------------------+----------+-----------------------+--------------------+--------------------+-------------------+------------------------+---------------------+---------------------+--------------------+-----------------+------------------+---------------+---------------+------------+---------------+------------------+----------------+-------------+---------------------+------+-------------------+----------------+------------------+---------------+-----------+\nonly showing top 5 rows\n\n"
     ]
    }
   ],
   "execution_count": 8,
   "metadata": {}
  },
  {
   "cell_type": "markdown",
   "source": [
    "### catalog_sales.dat"
   ],
   "metadata": {
    "nteract": {
     "transient": {
      "deleting": false
     }
    }
   }
  },
  {
   "cell_type": "code",
   "source": [
    "from pyspark.sql.types import StructType, StructField, IntegerType, DoubleType\n",
    "\n",
    "catalog_sales_schema = StructType([\n",
    "    StructField(\"cs_sold_date_sk\", IntegerType(), True),\n",
    "    StructField(\"cs_sold_time_sk\", IntegerType(), True),\n",
    "    StructField(\"cs_ship_date_sk\", IntegerType(), True),\n",
    "    StructField(\"cs_bill_customer_sk\", IntegerType(), True),\n",
    "    StructField(\"cs_bill_cdemo_sk\", IntegerType(), True),\n",
    "    StructField(\"cs_bill_hdemo_sk\", IntegerType(), True),\n",
    "    StructField(\"cs_bill_addr_sk\", IntegerType(), True),\n",
    "    StructField(\"cs_ship_customer_sk\", IntegerType(), True),\n",
    "    StructField(\"cs_ship_cdemo_sk\", IntegerType(), True),\n",
    "    StructField(\"cs_ship_hdemo_sk\", IntegerType(), True),\n",
    "    StructField(\"cs_ship_addr_sk\", IntegerType(), True),\n",
    "    StructField(\"cs_call_center_sk\", IntegerType(), True),\n",
    "    StructField(\"cs_catalog_page_sk\", IntegerType(), True),\n",
    "    StructField(\"cs_ship_mode_sk\", IntegerType(), True),\n",
    "    StructField(\"cs_warehouse_sk\", IntegerType(), True),\n",
    "    StructField(\"cs_item_sk\", IntegerType(), False),\n",
    "    StructField(\"cs_promo_sk\", IntegerType(), True),\n",
    "    StructField(\"cs_order_number\", IntegerType(), False),\n",
    "    StructField(\"cs_quantity\", IntegerType(), True),\n",
    "    StructField(\"cs_wholesale_cost\", DoubleType(), True),\n",
    "    StructField(\"cs_list_price\", DoubleType(), True),\n",
    "    StructField(\"cs_sales_price\", DoubleType(), True),\n",
    "    StructField(\"cs_ext_discount_amt\", DoubleType(), True),\n",
    "    StructField(\"cs_ext_sales_price\", DoubleType(), True),\n",
    "    StructField(\"cs_ext_wholesale_cost\", DoubleType(), True),\n",
    "    StructField(\"cs_ext_list_price\", DoubleType(), True),\n",
    "    StructField(\"cs_ext_tax\", DoubleType(), True),\n",
    "    StructField(\"cs_coupon_amt\", DoubleType(), True),\n",
    "    StructField(\"cs_ext_ship_cost\", DoubleType(), True),\n",
    "    StructField(\"cs_net_paid\", DoubleType(), True),\n",
    "    StructField(\"cs_net_paid_inc_tax\", DoubleType(), True),\n",
    "    StructField(\"cs_net_paid_inc_ship\", DoubleType(), True),\n",
    "    StructField(\"cs_net_paid_inc_ship_tax\", DoubleType(), True),\n",
    "    StructField(\"cs_net_profit\", DoubleType(), True)\n",
    "])\n",
    "\n",
    "input_path = \"abfss://tpcds100g@adlsssmdatatest01.dfs.core.windows.net/dat/tpcds_sf100/catalog_sales.dat\"\n",
    "output_path = \"abfss://tpcds100g@adlsssmdatatest01.dfs.core.windows.net/parquet/catalog_sales\"\n",
    "\n",
    "df_catalog_sales = spark.read \\\n",
    "    .option(\"delimiter\", \"|\") \\\n",
    "    .option(\"header\", \"false\") \\\n",
    "    .schema(catalog_sales_schema) \\\n",
    "    .csv(input_path)\n",
    "\n",
    "df_catalog_sales.write.mode(\"overwrite\").parquet(output_path)\n"
   ],
   "outputs": [
    {
     "output_type": "display_data",
     "data": {
      "application/vnd.livy.statement-meta+json": {
       "spark_pool": "spksilmen01",
       "statement_id": 10,
       "statement_ids": [
        10
       ],
       "state": "finished",
       "livy_statement_state": "available",
       "spark_jobs": null,
       "session_id": "128",
       "normalized_state": "finished",
       "queued_time": "2025-06-04T11:20:55.0120591Z",
       "session_start_time": null,
       "execution_start_time": "2025-06-04T11:20:55.0131049Z",
       "execution_finish_time": "2025-06-04T11:33:53.1833896Z",
       "parent_msg_id": "46cff07f-c610-4f60-a233-ccea2e717619"
      },
      "text/plain": "StatementMeta(spksilmen01, 128, 10, Finished, Available, Finished)"
     },
     "metadata": {}
    }
   ],
   "execution_count": 9,
   "metadata": {}
  },
  {
   "cell_type": "markdown",
   "source": [
    "### customer_address.dat"
   ],
   "metadata": {
    "nteract": {
     "transient": {
      "deleting": false
     }
    }
   }
  },
  {
   "cell_type": "code",
   "source": [
    "from pyspark.sql.types import StructType, StructField, IntegerType, StringType, DoubleType\n",
    "\n",
    "customer_address_schema = StructType([\n",
    "    StructField(\"ca_address_sk\", IntegerType(), False),\n",
    "    StructField(\"ca_address_id\", StringType(), False),\n",
    "    StructField(\"ca_street_number\", StringType(), True),\n",
    "    StructField(\"ca_street_name\", StringType(), True),\n",
    "    StructField(\"ca_street_type\", StringType(), True),\n",
    "    StructField(\"ca_suite_number\", StringType(), True),\n",
    "    StructField(\"ca_city\", StringType(), True),\n",
    "    StructField(\"ca_county\", StringType(), True),\n",
    "    StructField(\"ca_state\", StringType(), True),\n",
    "    StructField(\"ca_zip\", StringType(), True),\n",
    "    StructField(\"ca_country\", StringType(), True),\n",
    "    StructField(\"ca_gmt_offset\", DoubleType(), True),\n",
    "    StructField(\"ca_location_type\", StringType(), True)\n",
    "])\n",
    "\n",
    "input_path = \"abfss://tpcds100g@adlsssmdatatest01.dfs.core.windows.net/dat/tpcds_sf100/customer_address.dat\"\n",
    "output_path = \"abfss://tpcds100g@adlsssmdatatest01.dfs.core.windows.net/parquet/customer_address\"\n",
    "\n",
    "df_customer_address = spark.read \\\n",
    "    .option(\"delimiter\", \"|\") \\\n",
    "    .option(\"header\", \"false\") \\\n",
    "    .schema(customer_address_schema) \\\n",
    "    .csv(input_path)\n",
    "\n",
    "df_customer_address.write.mode(\"overwrite\").parquet(output_path)\n"
   ],
   "outputs": [
    {
     "output_type": "display_data",
     "data": {
      "application/vnd.livy.statement-meta+json": {
       "spark_pool": "spksilmen01",
       "statement_id": 11,
       "statement_ids": [
        11
       ],
       "state": "finished",
       "livy_statement_state": "available",
       "spark_jobs": null,
       "session_id": "128",
       "normalized_state": "finished",
       "queued_time": "2025-06-04T11:36:09.3259643Z",
       "session_start_time": null,
       "execution_start_time": "2025-06-04T11:36:09.3271755Z",
       "execution_finish_time": "2025-06-04T11:36:18.0216823Z",
       "parent_msg_id": "09ce9f0a-ddf3-480d-bd00-3c32db2637f7"
      },
      "text/plain": "StatementMeta(spksilmen01, 128, 11, Finished, Available, Finished)"
     },
     "metadata": {}
    }
   ],
   "execution_count": 10,
   "metadata": {}
  },
  {
   "cell_type": "markdown",
   "source": [
    "### customer_demographics.dat"
   ],
   "metadata": {
    "nteract": {
     "transient": {
      "deleting": false
     }
    }
   }
  },
  {
   "cell_type": "code",
   "source": [
    "from pyspark.sql.types import StructType, StructField, IntegerType, StringType\n",
    "\n",
    "customer_demographics_schema = StructType([\n",
    "    StructField(\"cd_demo_sk\", IntegerType(), False),\n",
    "    StructField(\"cd_gender\", StringType(), True),\n",
    "    StructField(\"cd_marital_status\", StringType(), True),\n",
    "    StructField(\"cd_education_status\", StringType(), True),\n",
    "    StructField(\"cd_purchase_estimate\", IntegerType(), True),\n",
    "    StructField(\"cd_credit_rating\", StringType(), True),\n",
    "    StructField(\"cd_dep_count\", IntegerType(), True),\n",
    "    StructField(\"cd_dep_employed_count\", IntegerType(), True),\n",
    "    StructField(\"cd_dep_college_count\", IntegerType(), True)\n",
    "])\n",
    "\n",
    "input_path = \"abfss://tpcds100g@adlsssmdatatest01.dfs.core.windows.net/dat/tpcds_sf100/customer_demographics.dat\"\n",
    "output_path = \"abfss://tpcds100g@adlsssmdatatest01.dfs.core.windows.net/parquet/customer_demographics\"\n",
    "\n",
    "df_customer_demographics = spark.read \\\n",
    "    .option(\"delimiter\", \"|\") \\\n",
    "    .option(\"header\", \"false\") \\\n",
    "    .schema(customer_demographics_schema) \\\n",
    "    .csv(input_path)\n",
    "\n",
    "df_customer_demographics.write.mode(\"overwrite\").parquet(output_path)\n"
   ],
   "outputs": [
    {
     "output_type": "display_data",
     "data": {
      "application/vnd.livy.statement-meta+json": {
       "spark_pool": "spksilmen01",
       "statement_id": 12,
       "statement_ids": [
        12
       ],
       "state": "finished",
       "livy_statement_state": "available",
       "spark_jobs": null,
       "session_id": "128",
       "normalized_state": "finished",
       "queued_time": "2025-06-04T11:37:46.985877Z",
       "session_start_time": null,
       "execution_start_time": "2025-06-04T11:37:46.9870962Z",
       "execution_finish_time": "2025-06-04T11:37:57.6405389Z",
       "parent_msg_id": "ff415b5d-10d3-4448-9fe0-b1319bbbf9ed"
      },
      "text/plain": "StatementMeta(spksilmen01, 128, 12, Finished, Available, Finished)"
     },
     "metadata": {}
    }
   ],
   "execution_count": 11,
   "metadata": {}
  },
  {
   "cell_type": "markdown",
   "source": [
    "### customer.dat"
   ],
   "metadata": {
    "nteract": {
     "transient": {
      "deleting": false
     }
    }
   }
  },
  {
   "cell_type": "code",
   "source": [
    "from pyspark.sql.types import StructType, StructField, IntegerType, StringType\n",
    "\n",
    "customer_schema = StructType([\n",
    "    StructField(\"c_customer_sk\", IntegerType(), False),\n",
    "    StructField(\"c_customer_id\", StringType(), False),\n",
    "    StructField(\"c_current_cdemo_sk\", IntegerType(), True),\n",
    "    StructField(\"c_current_hdemo_sk\", IntegerType(), True),\n",
    "    StructField(\"c_current_addr_sk\", IntegerType(), True),\n",
    "    StructField(\"c_first_shipto_date_sk\", IntegerType(), True),\n",
    "    StructField(\"c_first_sales_date_sk\", IntegerType(), True),\n",
    "    StructField(\"c_salutation\", StringType(), True),\n",
    "    StructField(\"c_first_name\", StringType(), True),\n",
    "    StructField(\"c_last_name\", StringType(), True),\n",
    "    StructField(\"c_preferred_cust_flag\", StringType(), True),\n",
    "    StructField(\"c_birth_day\", IntegerType(), True),\n",
    "    StructField(\"c_birth_month\", IntegerType(), True),\n",
    "    StructField(\"c_birth_year\", IntegerType(), True),\n",
    "    StructField(\"c_birth_country\", StringType(), True),\n",
    "    StructField(\"c_login\", StringType(), True),\n",
    "    StructField(\"c_email_address\", StringType(), True),\n",
    "    StructField(\"c_last_review_date\", StringType(), True)\n",
    "])\n",
    "\n",
    "input_path = \"abfss://tpcds100g@adlsssmdatatest01.dfs.core.windows.net/dat/tpcds_sf100/customer.dat\"\n",
    "output_path = \"abfss://tpcds100g@adlsssmdatatest01.dfs.core.windows.net/parquet/customer\"\n",
    "\n",
    "df_customer = spark.read \\\n",
    "    .option(\"delimiter\", \"|\") \\\n",
    "    .option(\"header\", \"false\") \\\n",
    "    .schema(customer_schema) \\\n",
    "    .csv(input_path)\n",
    "\n",
    "df_customer.write.mode(\"overwrite\").parquet(output_path)\n",
    "\n"
   ],
   "outputs": [
    {
     "output_type": "display_data",
     "data": {
      "application/vnd.livy.statement-meta+json": {
       "spark_pool": "spksilmen01",
       "statement_id": 13,
       "statement_ids": [
        13
       ],
       "state": "finished",
       "livy_statement_state": "available",
       "spark_jobs": null,
       "session_id": "128",
       "normalized_state": "finished",
       "queued_time": "2025-06-04T11:38:47.6274983Z",
       "session_start_time": null,
       "execution_start_time": "2025-06-04T11:38:47.628696Z",
       "execution_finish_time": "2025-06-04T11:39:00.4116276Z",
       "parent_msg_id": "df707962-5331-4393-bc4c-4f7d8f7fab57"
      },
      "text/plain": "StatementMeta(spksilmen01, 128, 13, Finished, Available, Finished)"
     },
     "metadata": {}
    }
   ],
   "execution_count": 12,
   "metadata": {}
  },
  {
   "cell_type": "markdown",
   "source": [
    "### date_dim.dat"
   ],
   "metadata": {
    "nteract": {
     "transient": {
      "deleting": false
     }
    }
   }
  },
  {
   "cell_type": "code",
   "source": [
    "from pyspark.sql.types import *\n",
    "\n",
    "date_dim_schema = StructType([\n",
    "    StructField(\"d_date_sk\", IntegerType(), False),\n",
    "    StructField(\"d_date_id\", StringType(), False),\n",
    "    StructField(\"d_date\", StringType(), True),\n",
    "    StructField(\"d_month_seq\", IntegerType(), True),\n",
    "    StructField(\"d_week_seq\", IntegerType(), True),\n",
    "    StructField(\"d_quarter_seq\", IntegerType(), True),\n",
    "    StructField(\"d_year\", IntegerType(), True),\n",
    "    StructField(\"d_dow\", IntegerType(), True),\n",
    "    StructField(\"d_moy\", IntegerType(), True),\n",
    "    StructField(\"d_dom\", IntegerType(), True),\n",
    "    StructField(\"d_qoy\", IntegerType(), True),\n",
    "    StructField(\"d_fy_year\", IntegerType(), True),\n",
    "    StructField(\"d_fy_quarter_seq\", IntegerType(), True),\n",
    "    StructField(\"d_fy_week_seq\", IntegerType(), True),\n",
    "    StructField(\"d_day_name\", StringType(), True),\n",
    "    StructField(\"d_quarter_name\", StringType(), True),\n",
    "    StructField(\"d_holiday\", StringType(), True),\n",
    "    StructField(\"d_weekend\", StringType(), True),\n",
    "    StructField(\"d_following_holiday\", StringType(), True),\n",
    "    StructField(\"d_first_dom\", IntegerType(), True),\n",
    "    StructField(\"d_last_dom\", IntegerType(), True),\n",
    "    StructField(\"d_same_day_ly\", IntegerType(), True),\n",
    "    StructField(\"d_same_day_lq\", IntegerType(), True),\n",
    "    StructField(\"d_current_day\", StringType(), True),\n",
    "    StructField(\"d_current_week\", StringType(), True),\n",
    "    StructField(\"d_current_month\", StringType(), True),\n",
    "    StructField(\"d_current_quarter\", StringType(), True),\n",
    "    StructField(\"d_current_year\", StringType(), True)\n",
    "])\n",
    "\n",
    "input_path = \"abfss://tpcds100g@adlsssmdatatest01.dfs.core.windows.net/dat/tpcds_sf100/date_dim.dat\"\n",
    "output_path = \"abfss://tpcds100g@adlsssmdatatest01.dfs.core.windows.net/parquet/date_dim\"\n",
    "\n",
    "df_date_dim = spark.read \\\n",
    "    .option(\"delimiter\", \"|\") \\\n",
    "    .option(\"header\", \"false\") \\\n",
    "    .schema(date_dim_schema) \\\n",
    "    .csv(input_path) \\\n",
    "    .drop(\"_c28\")\n",
    "\n",
    "df_date_dim.write.mode(\"overwrite\").parquet(output_path)\n"
   ],
   "outputs": [
    {
     "output_type": "display_data",
     "data": {
      "application/vnd.livy.statement-meta+json": {
       "spark_pool": "spksilmen01",
       "statement_id": 15,
       "statement_ids": [
        15
       ],
       "state": "finished",
       "livy_statement_state": "available",
       "spark_jobs": null,
       "session_id": "128",
       "normalized_state": "finished",
       "queued_time": "2025-06-04T11:44:58.1570608Z",
       "session_start_time": null,
       "execution_start_time": "2025-06-04T11:44:58.1583715Z",
       "execution_finish_time": "2025-06-04T11:45:01.0669744Z",
       "parent_msg_id": "74a075da-c9ce-4c5e-96e2-575434d12c6f"
      },
      "text/plain": "StatementMeta(spksilmen01, 128, 15, Finished, Available, Finished)"
     },
     "metadata": {}
    }
   ],
   "execution_count": 14,
   "metadata": {}
  },
  {
   "cell_type": "code",
   "source": [
    "df_date_dim_parquet = spark.read.parquet(output_path)\n",
    "df_date_dim_parquet.show(5)"
   ],
   "outputs": [],
   "execution_count": null,
   "metadata": {}
  },
  {
   "cell_type": "markdown",
   "source": [
    "### dbgen_version.dat"
   ],
   "metadata": {
    "nteract": {
     "transient": {
      "deleting": false
     }
    }
   }
  },
  {
   "cell_type": "code",
   "source": [
    "from pyspark.sql.types import StructType, StructField, StringType\n",
    "\n",
    "dbgen_version_schema = StructType([\n",
    "    StructField(\"dv_version\", StringType(), False),\n",
    "    StructField(\"dv_create_date\", StringType(), True),\n",
    "    StructField(\"dv_create_time\", StringType(), True)\n",
    "])\n",
    "\n",
    "input_path = \"abfss://tpcds100g@adlsssmdatatest01.dfs.core.windows.net/dat/tpcds_sf100/dbgen_version.dat\"\n",
    "output_path = \"abfss://tpcds100g@adlsssmdatatest01.dfs.core.windows.net/parquet/dbgen_version\"\n",
    "\n",
    "df_dbgen_version = spark.read \\\n",
    "    .option(\"delimiter\", \"|\") \\\n",
    "    .option(\"header\", \"false\") \\\n",
    "    .schema(dbgen_version_schema) \\\n",
    "    .csv(input_path) \\\n",
    "    .drop(\"_c3\")\n",
    "\n",
    "df_dbgen_version.write.mode(\"overwrite\").parquet(output_path)\n"
   ],
   "outputs": [
    {
     "output_type": "display_data",
     "data": {
      "application/vnd.livy.statement-meta+json": {
       "spark_pool": "spksilmen01",
       "statement_id": 17,
       "statement_ids": [
        17
       ],
       "state": "finished",
       "livy_statement_state": "available",
       "spark_jobs": null,
       "session_id": "128",
       "normalized_state": "finished",
       "queued_time": "2025-06-04T11:47:07.7350802Z",
       "session_start_time": null,
       "execution_start_time": "2025-06-04T11:47:07.7361287Z",
       "execution_finish_time": "2025-06-04T11:47:10.7050666Z",
       "parent_msg_id": "7f2a30ba-3d91-4dec-abbe-0f687c5bfc29"
      },
      "text/plain": "StatementMeta(spksilmen01, 128, 17, Finished, Available, Finished)"
     },
     "metadata": {}
    }
   ],
   "execution_count": 16,
   "metadata": {}
  },
  {
   "cell_type": "code",
   "source": [
    "df_dbgen_version_parquet = spark.read.parquet(output_path)\n",
    "df_dbgen_version_parquet.show()\n"
   ],
   "outputs": [
    {
     "output_type": "display_data",
     "data": {
      "application/vnd.livy.statement-meta+json": {
       "spark_pool": "spksilmen01",
       "statement_id": 18,
       "statement_ids": [
        18
       ],
       "state": "finished",
       "livy_statement_state": "available",
       "spark_jobs": null,
       "session_id": "128",
       "normalized_state": "finished",
       "queued_time": "2025-06-04T11:47:26.1427518Z",
       "session_start_time": null,
       "execution_start_time": "2025-06-04T11:47:26.1438588Z",
       "execution_finish_time": "2025-06-04T11:47:27.3095029Z",
       "parent_msg_id": "7b871b60-6119-4cdb-9a38-cf375e87b10f"
      },
      "text/plain": "StatementMeta(spksilmen01, 128, 18, Finished, Available, Finished)"
     },
     "metadata": {}
    },
    {
     "output_type": "stream",
     "name": "stdout",
     "text": [
      "+----------+--------------+--------------+\n|dv_version|dv_create_date|dv_create_time|\n+----------+--------------+--------------+\n|    2.13.0|    2025-06-04|      07:03:33|\n+----------+--------------+--------------+\n\n"
     ]
    }
   ],
   "execution_count": 17,
   "metadata": {}
  },
  {
   "cell_type": "markdown",
   "source": [
    "### household_demographics.dat\n"
   ],
   "metadata": {
    "nteract": {
     "transient": {
      "deleting": false
     }
    }
   }
  },
  {
   "cell_type": "code",
   "source": [
    "from pyspark.sql.types import StructType, StructField, IntegerType, StringType\n",
    "\n",
    "household_demographics_schema = StructType([\n",
    "    StructField(\"hd_demo_sk\", IntegerType(), False),\n",
    "    StructField(\"hd_income_band_sk\", IntegerType(), True),\n",
    "    StructField(\"hd_buy_potential\", StringType(), True),\n",
    "    StructField(\"hd_dep_count\", IntegerType(), True),\n",
    "    StructField(\"hd_vehicle_count\", IntegerType(), True)\n",
    "])\n",
    "\n",
    "input_path = \"abfss://tpcds100g@adlsssmdatatest01.dfs.core.windows.net/dat/tpcds_sf100/household_demographics.dat\"\n",
    "output_path = \"abfss://tpcds100g@adlsssmdatatest01.dfs.core.windows.net/parquet/household_demographics\"\n",
    "\n",
    "df_household_demographics = spark.read \\\n",
    "    .option(\"delimiter\", \"|\") \\\n",
    "    .option(\"header\", \"false\") \\\n",
    "    .schema(household_demographics_schema) \\\n",
    "    .csv(input_path) \\\n",
    "    .drop(\"_c5\")\n",
    "\n",
    "df_household_demographics.write.mode(\"overwrite\").parquet(output_path)\n"
   ],
   "outputs": [
    {
     "output_type": "display_data",
     "data": {
      "application/vnd.livy.statement-meta+json": {
       "spark_pool": "spksilmen01",
       "statement_id": 19,
       "statement_ids": [
        19
       ],
       "state": "finished",
       "livy_statement_state": "available",
       "spark_jobs": null,
       "session_id": "128",
       "normalized_state": "finished",
       "queued_time": "2025-06-04T11:48:50.2079592Z",
       "session_start_time": null,
       "execution_start_time": "2025-06-04T11:48:50.2091992Z",
       "execution_finish_time": "2025-06-04T11:48:53.0948847Z",
       "parent_msg_id": "fef7c1ac-ec82-418a-9add-beecec6d7a0f"
      },
      "text/plain": "StatementMeta(spksilmen01, 128, 19, Finished, Available, Finished)"
     },
     "metadata": {}
    }
   ],
   "execution_count": 18,
   "metadata": {}
  },
  {
   "cell_type": "markdown",
   "source": [
    "### income_band.dat"
   ],
   "metadata": {
    "nteract": {
     "transient": {
      "deleting": false
     }
    }
   }
  },
  {
   "cell_type": "code",
   "source": [
    "from pyspark.sql.types import StructType, StructField, IntegerType\n",
    "\n",
    "income_band_schema = StructType([\n",
    "    StructField(\"ib_income_band_sk\", IntegerType(), False),\n",
    "    StructField(\"ib_lower_bound\", IntegerType(), True),\n",
    "    StructField(\"ib_upper_bound\", IntegerType(), True)\n",
    "])\n",
    "\n",
    "input_path = \"abfss://tpcds100g@adlsssmdatatest01.dfs.core.windows.net/dat/tpcds_sf100/income_band.dat\"\n",
    "output_path = \"abfss://tpcds100g@adlsssmdatatest01.dfs.core.windows.net/parquet/income_band\"\n",
    "\n",
    "df_income_band = spark.read \\\n",
    "    .option(\"delimiter\", \"|\") \\\n",
    "    .option(\"header\", \"false\") \\\n",
    "    .schema(income_band_schema) \\\n",
    "    .csv(input_path) \\\n",
    "    .drop(\"_c3\")\n",
    "\n",
    "df_income_band.write.mode(\"overwrite\").parquet(output_path)\n"
   ],
   "outputs": [
    {
     "output_type": "display_data",
     "data": {
      "application/vnd.livy.statement-meta+json": {
       "spark_pool": "spksilmen01",
       "statement_id": 20,
       "statement_ids": [
        20
       ],
       "state": "finished",
       "livy_statement_state": "available",
       "spark_jobs": null,
       "session_id": "128",
       "normalized_state": "finished",
       "queued_time": "2025-06-04T11:49:43.1715451Z",
       "session_start_time": null,
       "execution_start_time": "2025-06-04T11:49:43.172523Z",
       "execution_finish_time": "2025-06-04T11:49:45.1753075Z",
       "parent_msg_id": "d7147f0d-85f9-4f51-bf5c-c08889c56214"
      },
      "text/plain": "StatementMeta(spksilmen01, 128, 20, Finished, Available, Finished)"
     },
     "metadata": {}
    }
   ],
   "execution_count": 19,
   "metadata": {}
  },
  {
   "cell_type": "markdown",
   "source": [
    "### inventory.dat"
   ],
   "metadata": {
    "nteract": {
     "transient": {
      "deleting": false
     }
    }
   }
  },
  {
   "cell_type": "code",
   "source": [
    "from pyspark.sql.types import StructType, StructField, IntegerType\n",
    "\n",
    "inventory_schema = StructType([\n",
    "    StructField(\"inv_date_sk\", IntegerType(), False),\n",
    "    StructField(\"inv_item_sk\", IntegerType(), False),\n",
    "    StructField(\"inv_warehouse_sk\", IntegerType(), False),\n",
    "    StructField(\"inv_quantity_on_hand\", IntegerType(), True)\n",
    "])\n",
    "\n",
    "input_path = \"abfss://tpcds100g@adlsssmdatatest01.dfs.core.windows.net/dat/tpcds_sf100/inventory.dat\"\n",
    "output_path = \"abfss://tpcds100g@adlsssmdatatest01.dfs.core.windows.net/parquet/inventory\"\n",
    "\n",
    "df_inventory = spark.read \\\n",
    "    .option(\"delimiter\", \"|\") \\\n",
    "    .option(\"header\", \"false\") \\\n",
    "    .schema(inventory_schema) \\\n",
    "    .csv(input_path) \\\n",
    "    .drop(\"_c4\")\n",
    "\n",
    "df_inventory.write.mode(\"overwrite\").parquet(output_path)\n"
   ],
   "outputs": [
    {
     "output_type": "display_data",
     "data": {
      "application/vnd.livy.statement-meta+json": {
       "spark_pool": "spksilmen01",
       "statement_id": 21,
       "statement_ids": [
        21
       ],
       "state": "finished",
       "livy_statement_state": "available",
       "spark_jobs": null,
       "session_id": "128",
       "normalized_state": "finished",
       "queued_time": "2025-06-04T11:50:45.4460682Z",
       "session_start_time": null,
       "execution_start_time": "2025-06-04T11:50:45.4472248Z",
       "execution_finish_time": "2025-06-04T12:09:50.5378916Z",
       "parent_msg_id": "d47ea968-4c43-43fd-bf40-ccf9d59e6397"
      },
      "text/plain": "StatementMeta(spksilmen01, 128, 21, Finished, Available, Finished)"
     },
     "metadata": {}
    }
   ],
   "execution_count": 20,
   "metadata": {}
  },
  {
   "cell_type": "markdown",
   "source": [
    "### item.dat"
   ],
   "metadata": {
    "nteract": {
     "transient": {
      "deleting": false
     }
    }
   }
  },
  {
   "cell_type": "code",
   "source": [
    "from pyspark.sql.types import *\n",
    "\n",
    "item_schema = StructType([\n",
    "    StructField(\"i_item_sk\", IntegerType(), False),\n",
    "    StructField(\"i_item_id\", StringType(), False),\n",
    "    StructField(\"i_rec_start_date\", StringType(), True),\n",
    "    StructField(\"i_rec_end_date\", StringType(), True),\n",
    "    StructField(\"i_item_desc\", StringType(), True),\n",
    "    StructField(\"i_current_price\", DoubleType(), True),\n",
    "    StructField(\"i_wholesale_cost\", DoubleType(), True),\n",
    "    StructField(\"i_brand_id\", IntegerType(), True),\n",
    "    StructField(\"i_brand\", StringType(), True),\n",
    "    StructField(\"i_class_id\", IntegerType(), True),\n",
    "    StructField(\"i_class\", StringType(), True),\n",
    "    StructField(\"i_category_id\", IntegerType(), True),\n",
    "    StructField(\"i_category\", StringType(), True),\n",
    "    StructField(\"i_manufact_id\", IntegerType(), True),\n",
    "    StructField(\"i_manufact\", StringType(), True),\n",
    "    StructField(\"i_size\", StringType(), True),\n",
    "    StructField(\"i_formulation\", StringType(), True),\n",
    "    StructField(\"i_color\", StringType(), True),\n",
    "    StructField(\"i_units\", StringType(), True),\n",
    "    StructField(\"i_container\", StringType(), True),\n",
    "    StructField(\"i_manager_id\", IntegerType(), True),\n",
    "    StructField(\"i_product_name\", StringType(), True)\n",
    "])\n",
    "\n",
    "input_path = \"abfss://tpcds100g@adlsssmdatatest01.dfs.core.windows.net/dat/tpcds_sf100/item.dat\"\n",
    "output_path = \"abfss://tpcds100g@adlsssmdatatest01.dfs.core.windows.net/parquet/item\"\n",
    "\n",
    "df_item = spark.read \\\n",
    "    .option(\"delimiter\", \"|\") \\\n",
    "    .option(\"header\", \"false\") \\\n",
    "    .schema(item_schema) \\\n",
    "    .csv(input_path) \\\n",
    "    .drop(\"_c22\")\n",
    "\n",
    "df_item.write.mode(\"overwrite\").parquet(output_path)\n"
   ],
   "outputs": [
    {
     "output_type": "display_data",
     "data": {
      "application/vnd.livy.statement-meta+json": {
       "spark_pool": "spksilmen01",
       "statement_id": 22,
       "statement_ids": [
        22
       ],
       "state": "finished",
       "livy_statement_state": "available",
       "spark_jobs": null,
       "session_id": "128",
       "normalized_state": "finished",
       "queued_time": "2025-06-04T12:12:42.1528067Z",
       "session_start_time": null,
       "execution_start_time": "2025-06-04T12:12:42.1540462Z",
       "execution_finish_time": "2025-06-04T12:12:46.2175512Z",
       "parent_msg_id": "89e54f85-3d35-47bc-a076-7a41159d2da0"
      },
      "text/plain": "StatementMeta(spksilmen01, 128, 22, Finished, Available, Finished)"
     },
     "metadata": {}
    }
   ],
   "execution_count": 21,
   "metadata": {}
  },
  {
   "cell_type": "markdown",
   "source": [
    "### promotion.dat"
   ],
   "metadata": {
    "nteract": {
     "transient": {
      "deleting": false
     }
    }
   }
  },
  {
   "cell_type": "markdown",
   "source": [
    "### reason.dat"
   ],
   "metadata": {
    "nteract": {
     "transient": {
      "deleting": false
     }
    }
   }
  },
  {
   "cell_type": "markdown",
   "source": [],
   "metadata": {
    "nteract": {
     "transient": {
      "deleting": false
     }
    }
   }
  },
  {
   "cell_type": "code",
   "source": [
    "from pyspark.sql.types import StructType, StructField, IntegerType, StringType, DateType, DoubleType\n",
    "\n",
    "promotion_schema = StructType([\n",
    "    StructField(\"p_promo_sk\", IntegerType(), False),\n",
    "    StructField(\"p_promo_id\", StringType(), False),\n",
    "    StructField(\"p_start_date_sk\", IntegerType(), True),\n",
    "    StructField(\"p_end_date_sk\", IntegerType(), True),\n",
    "    StructField(\"p_item_sk\", IntegerType(), True),\n",
    "    StructField(\"p_cost\", DoubleType(), True),\n",
    "    StructField(\"p_response_target\", IntegerType(), True),\n",
    "    StructField(\"p_promo_name\", StringType(), True),\n",
    "    StructField(\"p_channel_dmail\", StringType(), True),\n",
    "    StructField(\"p_channel_email\", StringType(), True),\n",
    "    StructField(\"p_channel_catalog\", StringType(), True),\n",
    "    StructField(\"p_channel_tv\", StringType(), True),\n",
    "    StructField(\"p_channel_radio\", StringType(), True),\n",
    "    StructField(\"p_channel_press\", StringType(), True),\n",
    "    StructField(\"p_channel_event\", StringType(), True),\n",
    "    StructField(\"p_channel_demo\", StringType(), True),\n",
    "    StructField(\"p_channel_details\", StringType(), True),\n",
    "    StructField(\"p_purpose\", StringType(), True),\n",
    "    StructField(\"p_discount_active\", StringType(), True)\n",
    "])\n",
    "\n",
    "reason_schema = StructType([\n",
    "    StructField(\"r_reason_sk\", IntegerType(), False),\n",
    "    StructField(\"r_reason_id\", StringType(), False),\n",
    "    StructField(\"r_reason_desc\", StringType(), True)\n",
    "])\n",
    "\n",
    "ship_mode_schema = StructType([\n",
    "    StructField(\"sm_ship_mode_sk\", IntegerType(), False),\n",
    "    StructField(\"sm_ship_mode_id\", StringType(), False),\n",
    "    StructField(\"sm_type\", StringType(), True),\n",
    "    StructField(\"sm_code\", StringType(), True),\n",
    "    StructField(\"sm_carrier\", StringType(), True),\n",
    "    StructField(\"sm_contract\", StringType(), True)\n",
    "])\n",
    "\n",
    "store_schema = StructType([\n",
    "    StructField(\"s_store_sk\", IntegerType(), False),\n",
    "    StructField(\"s_store_id\", StringType(), False),\n",
    "    StructField(\"s_rec_start_date\", DateType(), True),\n",
    "    StructField(\"s_rec_end_date\", DateType(), True),\n",
    "    StructField(\"s_closed_date_sk\", IntegerType(), True),\n",
    "    StructField(\"s_store_name\", StringType(), True),\n",
    "    StructField(\"s_number_employees\", IntegerType(), True),\n",
    "    StructField(\"s_floor_space\", IntegerType(), True),\n",
    "    StructField(\"s_hours\", StringType(), True),\n",
    "    StructField(\"s_manager\", StringType(), True),\n",
    "    StructField(\"s_market_id\", IntegerType(), True),\n",
    "    StructField(\"s_geography_class\", StringType(), True),\n",
    "    StructField(\"s_market_desc\", StringType(), True),\n",
    "    StructField(\"s_market_manager\", StringType(), True),\n",
    "    StructField(\"s_division_id\", IntegerType(), True),\n",
    "    StructField(\"s_division_name\", StringType(), True),\n",
    "    StructField(\"s_company_id\", IntegerType(), True),\n",
    "    StructField(\"s_company_name\", StringType(), True),\n",
    "    StructField(\"s_street_number\", StringType(), True),\n",
    "    StructField(\"s_street_name\", StringType(), True),\n",
    "    StructField(\"s_street_type\", StringType(), True),\n",
    "    StructField(\"s_suite_number\", StringType(), True),\n",
    "    StructField(\"s_city\", StringType(), True),\n",
    "    StructField(\"s_county\", StringType(), True),\n",
    "    StructField(\"s_state\", StringType(), True),\n",
    "    StructField(\"s_zip\", StringType(), True),\n",
    "    StructField(\"s_country\", StringType(), True),\n",
    "    StructField(\"s_gmt_offset\", DoubleType(), True),\n",
    "    StructField(\"s_tax_percentage\", DoubleType(), True)\n",
    "])\n",
    "\n",
    "store_returns_schema = StructType([\n",
    "    StructField(\"sr_returned_date_sk\", IntegerType(), True),\n",
    "    StructField(\"sr_return_time_sk\", IntegerType(), True),\n",
    "    StructField(\"sr_item_sk\", IntegerType(), True),\n",
    "    StructField(\"sr_customer_sk\", IntegerType(), True),\n",
    "    StructField(\"sr_cdemo_sk\", IntegerType(), True),\n",
    "    StructField(\"sr_hdemo_sk\", IntegerType(), True),\n",
    "    StructField(\"sr_addr_sk\", IntegerType(), True),\n",
    "    StructField(\"sr_store_sk\", IntegerType(), True),\n",
    "    StructField(\"sr_reason_sk\", IntegerType(), True),\n",
    "    StructField(\"sr_ticket_number\", IntegerType(), True),\n",
    "    StructField(\"sr_return_quantity\", IntegerType(), True),\n",
    "    StructField(\"sr_return_amt\", DoubleType(), True),\n",
    "    StructField(\"sr_return_tax\", DoubleType(), True),\n",
    "    StructField(\"sr_return_amt_inc_tax\", DoubleType(), True),\n",
    "    StructField(\"sr_fee\", DoubleType(), True),\n",
    "    StructField(\"sr_return_ship_cost\", DoubleType(), True),\n",
    "    StructField(\"sr_refunded_cash\", DoubleType(), True),\n",
    "    StructField(\"sr_reversed_charge\", DoubleType(), True),\n",
    "    StructField(\"sr_store_credit\", DoubleType(), True),\n",
    "    StructField(\"sr_net_loss\", DoubleType(), True)\n",
    "])\n",
    "\n",
    "store_sales_schema = StructType([\n",
    "    StructField(\"ss_sold_date_sk\", IntegerType(), True),\n",
    "    StructField(\"ss_sold_time_sk\", IntegerType(), True),\n",
    "    StructField(\"ss_item_sk\", IntegerType(), True),\n",
    "    StructField(\"ss_customer_sk\", IntegerType(), True),\n",
    "    StructField(\"ss_cdemo_sk\", IntegerType(), True),\n",
    "    StructField(\"ss_hdemo_sk\", IntegerType(), True),\n",
    "    StructField(\"ss_addr_sk\", IntegerType(), True),\n",
    "    StructField(\"ss_store_sk\", IntegerType(), True),\n",
    "    StructField(\"ss_promo_sk\", IntegerType(), True),\n",
    "    StructField(\"ss_ticket_number\", IntegerType(), True),\n",
    "    StructField(\"ss_quantity\", IntegerType(), True),\n",
    "    StructField(\"ss_wholesale_cost\", DoubleType(), True),\n",
    "    StructField(\"ss_list_price\", DoubleType(), True),\n",
    "    StructField(\"ss_sales_price\", DoubleType(), True),\n",
    "    StructField(\"ss_ext_discount_amt\", DoubleType(), True),\n",
    "    StructField(\"ss_ext_sales_price\", DoubleType(), True),\n",
    "    StructField(\"ss_ext_wholesale_cost\", DoubleType(), True),\n",
    "    StructField(\"ss_ext_list_price\", DoubleType(), True),\n",
    "    StructField(\"ss_ext_tax\", DoubleType(), True),\n",
    "    StructField(\"ss_coupon_amt\", DoubleType(), True),\n",
    "    StructField(\"ss_net_paid\", DoubleType(), True),\n",
    "    StructField(\"ss_net_paid_inc_tax\", DoubleType(), True),\n",
    "    StructField(\"ss_net_profit\", DoubleType(), True)\n",
    "])\n",
    "\n",
    "time_dim_schema = StructType([\n",
    "    StructField(\"t_time_sk\", IntegerType(), False),\n",
    "    StructField(\"t_time_id\", StringType(), False),\n",
    "    StructField(\"t_time\", IntegerType(), True),\n",
    "    StructField(\"t_hour\", IntegerType(), True),\n",
    "    StructField(\"t_minute\", IntegerType(), True),\n",
    "    StructField(\"t_second\", IntegerType(), True),\n",
    "    StructField(\"t_am_pm\", StringType(), True),\n",
    "    StructField(\"t_shift\", StringType(), True),\n",
    "    StructField(\"t_sub_shift\", StringType(), True),\n",
    "    StructField(\"t_meal_time\", StringType(), True)\n",
    "])\n",
    "\n",
    "warehouse_schema = StructType([\n",
    "    StructField(\"w_warehouse_sk\", IntegerType(), False),\n",
    "    StructField(\"w_warehouse_id\", StringType(), False),\n",
    "    StructField(\"w_warehouse_name\", StringType(), True),\n",
    "    StructField(\"w_warehouse_sq_ft\", IntegerType(), True),\n",
    "    StructField(\"w_street_number\", StringType(), True),\n",
    "    StructField(\"w_street_name\", StringType(), True),\n",
    "    StructField(\"w_street_type\", StringType(), True),\n",
    "    StructField(\"w_suite_number\", StringType(), True),\n",
    "    StructField(\"w_city\", StringType(), True),\n",
    "    StructField(\"w_county\", StringType(), True),\n",
    "    StructField(\"w_state\", StringType(), True),\n",
    "    StructField(\"w_zip\", StringType(), True),\n",
    "    StructField(\"w_country\", StringType(), True),\n",
    "    StructField(\"w_gmt_offset\", DoubleType(), True)\n",
    "])\n",
    "\n",
    "web_page_schema = StructType([\n",
    "    StructField(\"wp_web_page_sk\", IntegerType(), False),\n",
    "    StructField(\"wp_web_page_id\", StringType(), False),\n",
    "    StructField(\"wp_rec_start_date\", DateType(), True),\n",
    "    StructField(\"wp_rec_end_date\", DateType(), True),\n",
    "    StructField(\"wp_creation_date_sk\", IntegerType(), True),\n",
    "    StructField(\"wp_access_date_sk\", IntegerType(), True),\n",
    "    StructField(\"wp_autogen_flag\", StringType(), True),\n",
    "    StructField(\"wp_customer_sk\", IntegerType(), True),\n",
    "    StructField(\"wp_url\", StringType(), True),\n",
    "    StructField(\"wp_type\", StringType(), True),\n",
    "    StructField(\"wp_char_count\", IntegerType(), True),\n",
    "    StructField(\"wp_link_count\", IntegerType(), True),\n",
    "    StructField(\"wp_image_count\", IntegerType(), True),\n",
    "    StructField(\"wp_max_ad_count\", IntegerType(), True)\n",
    "])\n",
    "\n",
    "web_returns_schema = StructType([\n",
    "    StructField(\"wr_returned_date_sk\", IntegerType(), True),\n",
    "    StructField(\"wr_returned_time_sk\", IntegerType(), True),\n",
    "    StructField(\"wr_item_sk\", IntegerType(), True),\n",
    "    StructField(\"wr_refunded_customer_sk\", IntegerType(), True),\n",
    "    StructField(\"wr_refunded_cdemo_sk\", IntegerType(), True),\n",
    "    StructField(\"wr_refunded_hdemo_sk\", IntegerType(), True),\n",
    "    StructField(\"wr_refunded_addr_sk\", IntegerType(), True),\n",
    "    StructField(\"wr_returning_customer_sk\", IntegerType(), True),\n",
    "    StructField(\"wr_returning_cdemo_sk\", IntegerType(), True),\n",
    "    StructField(\"wr_returning_hdemo_sk\", IntegerType(), True),\n",
    "    StructField(\"wr_returning_addr_sk\", IntegerType(), True),\n",
    "    StructField(\"wr_web_page_sk\", IntegerType(), True),\n",
    "    StructField(\"wr_reason_sk\", IntegerType(), True),\n",
    "    StructField(\"wr_order_number\", IntegerType(), True),\n",
    "    StructField(\"wr_return_quantity\", IntegerType(), True),\n",
    "    StructField(\"wr_return_amt\", DoubleType(), True),\n",
    "    StructField(\"wr_return_tax\", DoubleType(), True),\n",
    "    StructField(\"wr_return_amt_inc_tax\", DoubleType(), True),\n",
    "    StructField(\"wr_fee\", DoubleType(), True),\n",
    "    StructField(\"wr_return_ship_cost\", DoubleType(), True),\n",
    "    StructField(\"wr_refunded_cash\", DoubleType(), True),\n",
    "    StructField(\"wr_reversed_charge\", DoubleType(), True),\n",
    "    StructField(\"wr_account_credit\", DoubleType(), True),\n",
    "    StructField(\"wr_net_loss\", DoubleType(), True)\n",
    "])\n",
    "\n",
    "web_sales_schema = StructType([\n",
    "    StructField(\"ws_sold_date_sk\", IntegerType(), True),\n",
    "    StructField(\"ws_sold_time_sk\", IntegerType(), True),\n",
    "    StructField(\"ws_ship_date_sk\", IntegerType(), True),\n",
    "    StructField(\"ws_item_sk\", IntegerType(), True),\n",
    "    StructField(\"ws_bill_customer_sk\", IntegerType(), True),\n",
    "    StructField(\"ws_bill_cdemo_sk\", IntegerType(), True),\n",
    "    StructField(\"ws_bill_hdemo_sk\", IntegerType(), True),\n",
    "    StructField(\"ws_bill_addr_sk\", IntegerType(), True),\n",
    "    StructField(\"ws_ship_customer_sk\", IntegerType(), True),\n",
    "    StructField(\"ws_ship_cdemo_sk\", IntegerType(), True),\n",
    "    StructField(\"ws_ship_hdemo_sk\", IntegerType(), True),\n",
    "    StructField(\"ws_ship_addr_sk\", IntegerType(), True),\n",
    "    StructField(\"ws_web_page_sk\", IntegerType(), True),\n",
    "    StructField(\"ws_web_site_sk\", IntegerType(), True),\n",
    "    StructField(\"ws_ship_mode_sk\", IntegerType(), True),\n",
    "    StructField(\"ws_warehouse_sk\", IntegerType(), True),\n",
    "    StructField(\"ws_promo_sk\", IntegerType(), True),\n",
    "    StructField(\"ws_order_number\", IntegerType(), True),\n",
    "    StructField(\"ws_quantity\", IntegerType(), True),\n",
    "    StructField(\"ws_wholesale_cost\", DoubleType(), True),\n",
    "    StructField(\"ws_list_price\", DoubleType(), True),\n",
    "    StructField(\"ws_sales_price\", DoubleType(), True),\n",
    "    StructField(\"ws_ext_discount_amt\", DoubleType(), True),\n",
    "    StructField(\"ws_ext_sales_price\", DoubleType(), True),\n",
    "    StructField(\"ws_ext_wholesale_cost\", DoubleType(), True),\n",
    "    StructField(\"ws_ext_list_price\", DoubleType(), True),\n",
    "    StructField(\"ws_ext_tax\", DoubleType(), True),\n",
    "    StructField(\"ws_coupon_amt\", DoubleType(), True),\n",
    "    StructField(\"ws_ext_ship_cost\", DoubleType(), True),\n",
    "    StructField(\"ws_net_paid\", DoubleType(), True),\n",
    "    StructField(\"ws_net_paid_inc_tax\", DoubleType(), True),\n",
    "    StructField(\"ws_net_paid_inc_ship\", DoubleType(), True),\n",
    "    StructField(\"ws_net_paid_inc_ship_tax\", DoubleType(), True),\n",
    "    StructField(\"ws_net_profit\", DoubleType(), True)\n",
    "])\n",
    "\n",
    "web_site_schema = StructType([\n",
    "    StructField(\"web_site_sk\", IntegerType(), False),\n",
    "    StructField(\"web_site_id\", StringType(), False),\n",
    "    StructField(\"web_rec_start_date\", DateType(), True),\n",
    "    StructField(\"web_rec_end_date\", DateType(), True),\n",
    "    StructField(\"web_name\", StringType(), True),\n",
    "    StructField(\"web_open_date_sk\", IntegerType(), True),\n",
    "    StructField(\"web_close_date_sk\", IntegerType(), True),\n",
    "    StructField(\"web_class\", StringType(), True),\n",
    "    StructField(\"web_manager\", StringType(), True),\n",
    "    StructField(\"web_mkt_id\", IntegerType(), True),\n",
    "    StructField(\"web_mkt_class\", StringType(), True),\n",
    "    StructField(\"web_mkt_desc\", StringType(), True),\n",
    "    StructField(\"web_market_manager\", StringType(), True),\n",
    "    StructField(\"web_company_id\", IntegerType(), True),\n",
    "    StructField(\"web_company_name\", StringType(), True),\n",
    "    StructField(\"web_street_number\", StringType(), True),\n",
    "    StructField(\"web_street_name\", StringType(), True),\n",
    "    StructField(\"web_street_type\", StringType(), True),\n",
    "    StructField(\"web_suite_number\", StringType(), True),\n",
    "    StructField(\"web_city\", StringType(), True),\n",
    "    StructField(\"web_county\", StringType(), True),\n",
    "    StructField(\"web_state\", StringType(), True),\n",
    "    StructField(\"web_zip\", StringType(), True),\n",
    "    StructField(\"web_country\", StringType(), True),\n",
    "    StructField(\"web_gmt_offset\", DoubleType(), True),\n",
    "    StructField(\"web_tax_percentage\", DoubleType(), True)\n",
    "])\n"
   ],
   "metadata": {},
   "execution_count": null,
   "outputs": []
  },
  {
   "cell_type": "code",
   "source": [
    "# Convert remaining .dat files using explicit schemas\n",
    "base_in = \"abfss://tpcds100g@adlsssmdatatest01.dfs.core.windows.net/dat/tpcds_sf100/\"\n",
    "base_out = \"abfss://tpcds100g@adlsssmdatatest01.dfs.core.windows.net/parquet/\"\n",
    "schemas = {\n",
    "    'promotion': promotion_schema,\n",
    "    'reason': reason_schema,\n",
    "    'ship_mode': ship_mode_schema,\n",
    "    'store': store_schema,\n",
    "    'store_returns': store_returns_schema,\n",
    "    'store_sales': store_sales_schema,\n",
    "    'time_dim': time_dim_schema,\n",
    "    'warehouse': warehouse_schema,\n",
    "    'web_page': web_page_schema,\n",
    "    'web_returns': web_returns_schema,\n",
    "    'web_sales': web_sales_schema,\n",
    "    'web_site': web_site_schema\n",
    "}\n",
    "for table, schema in schemas.items():\n",
    "    input_path = f\"{base_in}{table}.dat\"\n",
    "    output_path = f\"{base_out}{table}\"\n",
    "    df = (spark.read.option(\"delimiter\", \"|\")\n",
    "                   .option(\"header\", \"false\")\n",
    "                   .schema(schema)\n",
    "                   .csv(input_path))\n",
    "    last_col = df.columns[-1]\n",
    "    df.drop(last_col).write.mode(\"overwrite\").parquet(output_path)\n"
   ],
   "metadata": {},
   "execution_count": null,
   "outputs": []
  }
 ],
 "metadata": {
  "language_info": {
   "name": "python"
  },
  "kernelspec": {
   "name": "synapse_pyspark",
   "language": "Python",
   "display_name": "Synapse PySpark"
  },
  "kernel_info": {
   "name": "synapse_pyspark"
  },
  "save_output": true,
  "synapse_widget": {
   "version": "0.1",
   "state": {}
  }
 },
 "nbformat": 4,
 "nbformat_minor": 2
}